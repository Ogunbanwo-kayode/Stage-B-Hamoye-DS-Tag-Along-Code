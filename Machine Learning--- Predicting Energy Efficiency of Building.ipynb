{
 "cells": [
  {
   "cell_type": "code",
   "execution_count": 82,
   "id": "5cdfad99",
   "metadata": {},
   "outputs": [],
   "source": [
    "# import the library\n",
    "import pandas as pd\n",
    "import numpy as np"
   ]
  },
  {
   "cell_type": "code",
   "execution_count": 83,
   "id": "48b9e6d3",
   "metadata": {},
   "outputs": [],
   "source": [
    "# load the dataset\n",
    "df = pd.read_csv(\"https://archive.ics.uci.edu/ml/machine-learning-databases/00374/energydata_complete.csv\")"
   ]
  },
  {
   "cell_type": "code",
   "execution_count": 84,
   "id": "d35f00bd",
   "metadata": {},
   "outputs": [],
   "source": [
    "# drop irrelevant features like the date column\n",
    "df.drop(\"date\", axis = 1, inplace = True)"
   ]
  },
  {
   "cell_type": "code",
   "execution_count": 85,
   "id": "e70bda2c",
   "metadata": {},
   "outputs": [
    {
     "data": {
      "text/html": [
       "<div>\n",
       "<style scoped>\n",
       "    .dataframe tbody tr th:only-of-type {\n",
       "        vertical-align: middle;\n",
       "    }\n",
       "\n",
       "    .dataframe tbody tr th {\n",
       "        vertical-align: top;\n",
       "    }\n",
       "\n",
       "    .dataframe thead th {\n",
       "        text-align: right;\n",
       "    }\n",
       "</style>\n",
       "<table border=\"1\" class=\"dataframe\">\n",
       "  <thead>\n",
       "    <tr style=\"text-align: right;\">\n",
       "      <th></th>\n",
       "      <th>Appliances</th>\n",
       "      <th>lights</th>\n",
       "      <th>T1</th>\n",
       "      <th>RH_1</th>\n",
       "      <th>T2</th>\n",
       "      <th>RH_2</th>\n",
       "      <th>T3</th>\n",
       "      <th>RH_3</th>\n",
       "      <th>T4</th>\n",
       "      <th>RH_4</th>\n",
       "      <th>...</th>\n",
       "      <th>T9</th>\n",
       "      <th>RH_9</th>\n",
       "      <th>T_out</th>\n",
       "      <th>Press_mm_hg</th>\n",
       "      <th>RH_out</th>\n",
       "      <th>Windspeed</th>\n",
       "      <th>Visibility</th>\n",
       "      <th>Tdewpoint</th>\n",
       "      <th>rv1</th>\n",
       "      <th>rv2</th>\n",
       "    </tr>\n",
       "  </thead>\n",
       "  <tbody>\n",
       "    <tr>\n",
       "      <th>0</th>\n",
       "      <td>60</td>\n",
       "      <td>30</td>\n",
       "      <td>19.89</td>\n",
       "      <td>47.596667</td>\n",
       "      <td>19.2</td>\n",
       "      <td>44.790000</td>\n",
       "      <td>19.79</td>\n",
       "      <td>44.730000</td>\n",
       "      <td>19.000000</td>\n",
       "      <td>45.566667</td>\n",
       "      <td>...</td>\n",
       "      <td>17.033333</td>\n",
       "      <td>45.53</td>\n",
       "      <td>6.600000</td>\n",
       "      <td>733.5</td>\n",
       "      <td>92.0</td>\n",
       "      <td>7.000000</td>\n",
       "      <td>63.000000</td>\n",
       "      <td>5.3</td>\n",
       "      <td>13.275433</td>\n",
       "      <td>13.275433</td>\n",
       "    </tr>\n",
       "    <tr>\n",
       "      <th>1</th>\n",
       "      <td>60</td>\n",
       "      <td>30</td>\n",
       "      <td>19.89</td>\n",
       "      <td>46.693333</td>\n",
       "      <td>19.2</td>\n",
       "      <td>44.722500</td>\n",
       "      <td>19.79</td>\n",
       "      <td>44.790000</td>\n",
       "      <td>19.000000</td>\n",
       "      <td>45.992500</td>\n",
       "      <td>...</td>\n",
       "      <td>17.066667</td>\n",
       "      <td>45.56</td>\n",
       "      <td>6.483333</td>\n",
       "      <td>733.6</td>\n",
       "      <td>92.0</td>\n",
       "      <td>6.666667</td>\n",
       "      <td>59.166667</td>\n",
       "      <td>5.2</td>\n",
       "      <td>18.606195</td>\n",
       "      <td>18.606195</td>\n",
       "    </tr>\n",
       "    <tr>\n",
       "      <th>2</th>\n",
       "      <td>50</td>\n",
       "      <td>30</td>\n",
       "      <td>19.89</td>\n",
       "      <td>46.300000</td>\n",
       "      <td>19.2</td>\n",
       "      <td>44.626667</td>\n",
       "      <td>19.79</td>\n",
       "      <td>44.933333</td>\n",
       "      <td>18.926667</td>\n",
       "      <td>45.890000</td>\n",
       "      <td>...</td>\n",
       "      <td>17.000000</td>\n",
       "      <td>45.50</td>\n",
       "      <td>6.366667</td>\n",
       "      <td>733.7</td>\n",
       "      <td>92.0</td>\n",
       "      <td>6.333333</td>\n",
       "      <td>55.333333</td>\n",
       "      <td>5.1</td>\n",
       "      <td>28.642668</td>\n",
       "      <td>28.642668</td>\n",
       "    </tr>\n",
       "    <tr>\n",
       "      <th>3</th>\n",
       "      <td>50</td>\n",
       "      <td>40</td>\n",
       "      <td>19.89</td>\n",
       "      <td>46.066667</td>\n",
       "      <td>19.2</td>\n",
       "      <td>44.590000</td>\n",
       "      <td>19.79</td>\n",
       "      <td>45.000000</td>\n",
       "      <td>18.890000</td>\n",
       "      <td>45.723333</td>\n",
       "      <td>...</td>\n",
       "      <td>17.000000</td>\n",
       "      <td>45.40</td>\n",
       "      <td>6.250000</td>\n",
       "      <td>733.8</td>\n",
       "      <td>92.0</td>\n",
       "      <td>6.000000</td>\n",
       "      <td>51.500000</td>\n",
       "      <td>5.0</td>\n",
       "      <td>45.410389</td>\n",
       "      <td>45.410389</td>\n",
       "    </tr>\n",
       "    <tr>\n",
       "      <th>4</th>\n",
       "      <td>60</td>\n",
       "      <td>40</td>\n",
       "      <td>19.89</td>\n",
       "      <td>46.333333</td>\n",
       "      <td>19.2</td>\n",
       "      <td>44.530000</td>\n",
       "      <td>19.79</td>\n",
       "      <td>45.000000</td>\n",
       "      <td>18.890000</td>\n",
       "      <td>45.530000</td>\n",
       "      <td>...</td>\n",
       "      <td>17.000000</td>\n",
       "      <td>45.40</td>\n",
       "      <td>6.133333</td>\n",
       "      <td>733.9</td>\n",
       "      <td>92.0</td>\n",
       "      <td>5.666667</td>\n",
       "      <td>47.666667</td>\n",
       "      <td>4.9</td>\n",
       "      <td>10.084097</td>\n",
       "      <td>10.084097</td>\n",
       "    </tr>\n",
       "  </tbody>\n",
       "</table>\n",
       "<p>5 rows × 28 columns</p>\n",
       "</div>"
      ],
      "text/plain": [
       "   Appliances  lights     T1       RH_1    T2       RH_2     T3       RH_3  \\\n",
       "0          60      30  19.89  47.596667  19.2  44.790000  19.79  44.730000   \n",
       "1          60      30  19.89  46.693333  19.2  44.722500  19.79  44.790000   \n",
       "2          50      30  19.89  46.300000  19.2  44.626667  19.79  44.933333   \n",
       "3          50      40  19.89  46.066667  19.2  44.590000  19.79  45.000000   \n",
       "4          60      40  19.89  46.333333  19.2  44.530000  19.79  45.000000   \n",
       "\n",
       "          T4       RH_4  ...         T9   RH_9     T_out  Press_mm_hg  RH_out  \\\n",
       "0  19.000000  45.566667  ...  17.033333  45.53  6.600000        733.5    92.0   \n",
       "1  19.000000  45.992500  ...  17.066667  45.56  6.483333        733.6    92.0   \n",
       "2  18.926667  45.890000  ...  17.000000  45.50  6.366667        733.7    92.0   \n",
       "3  18.890000  45.723333  ...  17.000000  45.40  6.250000        733.8    92.0   \n",
       "4  18.890000  45.530000  ...  17.000000  45.40  6.133333        733.9    92.0   \n",
       "\n",
       "   Windspeed  Visibility  Tdewpoint        rv1        rv2  \n",
       "0   7.000000   63.000000        5.3  13.275433  13.275433  \n",
       "1   6.666667   59.166667        5.2  18.606195  18.606195  \n",
       "2   6.333333   55.333333        5.1  28.642668  28.642668  \n",
       "3   6.000000   51.500000        5.0  45.410389  45.410389  \n",
       "4   5.666667   47.666667        4.9  10.084097  10.084097  \n",
       "\n",
       "[5 rows x 28 columns]"
      ]
     },
     "execution_count": 85,
     "metadata": {},
     "output_type": "execute_result"
    }
   ],
   "source": [
    "# print the head\n",
    "df.head()"
   ]
  },
  {
   "cell_type": "markdown",
   "id": "55e9fb37",
   "metadata": {},
   "source": [
    "# Simple Linear Regression Model"
   ]
  },
  {
   "cell_type": "code",
   "execution_count": 86,
   "id": "7277f284",
   "metadata": {},
   "outputs": [],
   "source": [
    "# define the linear model class\n",
    "\n",
    "from sklearn.linear_model import LinearRegression"
   ]
  },
  {
   "cell_type": "code",
   "execution_count": 87,
   "id": "2869ba26",
   "metadata": {},
   "outputs": [],
   "source": [
    "# firstly we normalize the dataset to common scale using the min max scaler\n",
    "\n",
    "from sklearn.preprocessing import MinMaxScaler"
   ]
  },
  {
   "cell_type": "code",
   "execution_count": 88,
   "id": "f93d6219",
   "metadata": {},
   "outputs": [],
   "source": [
    "# Instantiate an object for the min max scaler\n",
    "\n",
    "scaler = MinMaxScaler()"
   ]
  },
  {
   "cell_type": "code",
   "execution_count": 89,
   "id": "36ea889c",
   "metadata": {},
   "outputs": [],
   "source": [
    "# Create a normalized dataframe\n",
    "\n",
    "normalized_df = pd.DataFrame(scaler.fit_transform(df), columns = df.columns)"
   ]
  },
  {
   "cell_type": "code",
   "execution_count": 90,
   "id": "a0c42cdf",
   "metadata": {},
   "outputs": [],
   "source": [
    "# create a separate object for the features and target variables\n",
    "# This means defining X and Y\n",
    "\n",
    "feature_df = normalized_df[[\"T2\"]]\n",
    "\n",
    "target = normalized_df[\"T6\"]"
   ]
  },
  {
   "cell_type": "code",
   "execution_count": 91,
   "id": "6b3a328a",
   "metadata": {},
   "outputs": [],
   "source": [
    "# Split the dataset into training and test set\n",
    "X_train, X_test, y_train, y_test = train_test_split(feature_df, target, test_size = 0.3, random_state = 1)"
   ]
  },
  {
   "cell_type": "code",
   "execution_count": 92,
   "id": "5d12d8cf",
   "metadata": {},
   "outputs": [
    {
     "name": "stdout",
     "output_type": "stream",
     "text": [
      "(13814, 1) (5921, 1)\n",
      "(13814,) (5921,)\n"
     ]
    }
   ],
   "source": [
    "# print the shape X and Y\n",
    "print(X_train.shape, X_test.shape)\n",
    "print(y_train.shape, y_test.shape)"
   ]
  },
  {
   "cell_type": "code",
   "execution_count": 93,
   "id": "f19b63fd",
   "metadata": {},
   "outputs": [],
   "source": [
    "# Instantiate an object for the model class\n",
    "reg = LinearRegression()"
   ]
  },
  {
   "cell_type": "code",
   "execution_count": 94,
   "id": "40002cf3",
   "metadata": {},
   "outputs": [
    {
     "data": {
      "text/plain": [
       "LinearRegression()"
      ]
     },
     "execution_count": 94,
     "metadata": {},
     "output_type": "execute_result"
    }
   ],
   "source": [
    "# Train the model using the training dataset\n",
    "reg.fit(X_train, y_train)"
   ]
  },
  {
   "cell_type": "code",
   "execution_count": 96,
   "id": "5bc0f733",
   "metadata": {},
   "outputs": [
    {
     "data": {
      "text/plain": [
       "array([0.89003912])"
      ]
     },
     "execution_count": 96,
     "metadata": {},
     "output_type": "execute_result"
    }
   ],
   "source": [
    "# print the coefficient of the regression model\n",
    "reg.coef_"
   ]
  },
  {
   "cell_type": "code",
   "execution_count": 97,
   "id": "aef06e1d",
   "metadata": {},
   "outputs": [],
   "source": [
    "# Make prediction with the model\n",
    "reg_pred = reg.predict(X_test)"
   ]
  },
  {
   "cell_type": "code",
   "execution_count": 100,
   "id": "260603a3",
   "metadata": {},
   "outputs": [
    {
     "name": "stdout",
     "output_type": "stream",
     "text": [
      "0.6459\n"
     ]
    }
   ],
   "source": [
    "# Evaluate the performance of the model using R_squared\n",
    "from sklearn.metrics import r2_score\n",
    "R = r2_score(y_test, reg_pred)\n",
    "print(round(R, 4))"
   ]
  },
  {
   "cell_type": "markdown",
   "id": "8fb985c5",
   "metadata": {},
   "source": [
    "# Multiple Linear Regression Model"
   ]
  },
  {
   "cell_type": "code",
   "execution_count": 101,
   "id": "5c8be9fa",
   "metadata": {},
   "outputs": [
    {
     "data": {
      "text/plain": [
       "Index(['Appliances', 'lights', 'T1', 'RH_1', 'T2', 'RH_2', 'T3', 'RH_3', 'T4',\n",
       "       'RH_4', 'T5', 'RH_5', 'T6', 'RH_6', 'T7', 'RH_7', 'T8', 'RH_8', 'T9',\n",
       "       'RH_9', 'T_out', 'Press_mm_hg', 'RH_out', 'Windspeed', 'Visibility',\n",
       "       'Tdewpoint', 'rv1', 'rv2'],\n",
       "      dtype='object')"
      ]
     },
     "execution_count": 101,
     "metadata": {},
     "output_type": "execute_result"
    }
   ],
   "source": [
    "normalized_df.columns"
   ]
  },
  {
   "cell_type": "code",
   "execution_count": 102,
   "id": "9b4de8d0",
   "metadata": {},
   "outputs": [],
   "source": [
    "# Drop the lights column\n",
    "normalized_df.drop(\"lights\", axis = 1, inplace = True)"
   ]
  },
  {
   "cell_type": "code",
   "execution_count": 103,
   "id": "fedc2c08",
   "metadata": {},
   "outputs": [],
   "source": [
    "feature = normalized_df.drop(\"Appliances\", axis =1)\n",
    "target = normalized_df[\"Appliances\"]"
   ]
  },
  {
   "cell_type": "code",
   "execution_count": 104,
   "id": "50696d49",
   "metadata": {},
   "outputs": [
    {
     "data": {
      "text/plain": [
       "Index(['Appliances', 'T1', 'RH_1', 'T2', 'RH_2', 'T3', 'RH_3', 'T4', 'RH_4',\n",
       "       'T5', 'RH_5', 'T6', 'RH_6', 'T7', 'RH_7', 'T8', 'RH_8', 'T9', 'RH_9',\n",
       "       'T_out', 'Press_mm_hg', 'RH_out', 'Windspeed', 'Visibility',\n",
       "       'Tdewpoint', 'rv1', 'rv2'],\n",
       "      dtype='object')"
      ]
     },
     "execution_count": 104,
     "metadata": {},
     "output_type": "execute_result"
    }
   ],
   "source": [
    "# Print the column names\n",
    "normalized_df.columns"
   ]
  },
  {
   "cell_type": "code",
   "execution_count": 105,
   "id": "0fefddaf",
   "metadata": {},
   "outputs": [],
   "source": [
    "# Split the dataset into training and test set\n",
    "X_train, X_test, y_train, y_test = train_test_split(feature, target, test_size = 0.3, random_state = 42)"
   ]
  },
  {
   "cell_type": "code",
   "execution_count": 106,
   "id": "64daa3ab",
   "metadata": {},
   "outputs": [],
   "source": [
    "# Create an object for the model\n",
    "ml = LinearRegression()"
   ]
  },
  {
   "cell_type": "code",
   "execution_count": 107,
   "id": "e87f4f10",
   "metadata": {},
   "outputs": [
    {
     "data": {
      "text/plain": [
       "LinearRegression()"
      ]
     },
     "execution_count": 107,
     "metadata": {},
     "output_type": "execute_result"
    }
   ],
   "source": [
    "# Train the model\n",
    "ml.fit(X_train, y_train)"
   ]
  },
  {
   "cell_type": "code",
   "execution_count": 108,
   "id": "2bcfac8e",
   "metadata": {},
   "outputs": [],
   "source": [
    "# make prediction with the model\n",
    "ml_pred = ml.predict(X_test)"
   ]
  },
  {
   "cell_type": "code",
   "execution_count": 109,
   "id": "1986782c",
   "metadata": {},
   "outputs": [
    {
     "name": "stdout",
     "output_type": "stream",
     "text": [
      "0.05\n"
     ]
    }
   ],
   "source": [
    "# Evaluate the performance of the model using Mean Absolute Error (MAE) metric\n",
    "from sklearn.metrics import mean_absolute_error\n",
    "MAE = mean_absolute_error(y_test, ml_pred)\n",
    "print(round(MAE, 2))"
   ]
  },
  {
   "cell_type": "code",
   "execution_count": 110,
   "id": "044ff4dc",
   "metadata": {},
   "outputs": [
    {
     "name": "stdout",
     "output_type": "stream",
     "text": [
      "45.35\n"
     ]
    }
   ],
   "source": [
    "# Calculate the Residual Sum of Squares\n",
    "RSS = np.sum(np.square(y_test - ml_pred))\n",
    "print(round(RSS, 2))"
   ]
  },
  {
   "cell_type": "code",
   "execution_count": 111,
   "id": "e639c958",
   "metadata": {},
   "outputs": [
    {
     "name": "stdout",
     "output_type": "stream",
     "text": [
      "0.088\n"
     ]
    }
   ],
   "source": [
    "# Calculate the Root Mean Squared Error\n",
    "from sklearn.metrics import mean_squared_error\n",
    "\n",
    "RMSE = np.sqrt(mean_squared_error(y_test, ml_pred))\n",
    "\n",
    "print(round(RMSE, 3))"
   ]
  },
  {
   "cell_type": "code",
   "execution_count": 112,
   "id": "4396a03e",
   "metadata": {},
   "outputs": [
    {
     "name": "stdout",
     "output_type": "stream",
     "text": [
      "0.15\n"
     ]
    }
   ],
   "source": [
    "# Calculate the R_squared fo the multiple regression model\n",
    "from sklearn.metrics import r2_score\n",
    "R_squared = r2_score(y_test, ml_pred)\n",
    "print(round(R_squared, 2))"
   ]
  },
  {
   "cell_type": "code",
   "execution_count": 113,
   "id": "3d982fa6",
   "metadata": {},
   "outputs": [
    {
     "data": {
      "text/html": [
       "<div>\n",
       "<style scoped>\n",
       "    .dataframe tbody tr th:only-of-type {\n",
       "        vertical-align: middle;\n",
       "    }\n",
       "\n",
       "    .dataframe tbody tr th {\n",
       "        vertical-align: top;\n",
       "    }\n",
       "\n",
       "    .dataframe thead th {\n",
       "        text-align: right;\n",
       "    }\n",
       "</style>\n",
       "<table border=\"1\" class=\"dataframe\">\n",
       "  <thead>\n",
       "    <tr style=\"text-align: right;\">\n",
       "      <th></th>\n",
       "      <th>columns</th>\n",
       "      <th>Coefficient Estimate</th>\n",
       "    </tr>\n",
       "  </thead>\n",
       "  <tbody>\n",
       "    <tr>\n",
       "      <th>0</th>\n",
       "      <td>T1</td>\n",
       "      <td>-0.003281</td>\n",
       "    </tr>\n",
       "    <tr>\n",
       "      <th>1</th>\n",
       "      <td>RH_1</td>\n",
       "      <td>0.553547</td>\n",
       "    </tr>\n",
       "    <tr>\n",
       "      <th>2</th>\n",
       "      <td>T2</td>\n",
       "      <td>-0.236178</td>\n",
       "    </tr>\n",
       "    <tr>\n",
       "      <th>3</th>\n",
       "      <td>RH_2</td>\n",
       "      <td>-0.456698</td>\n",
       "    </tr>\n",
       "    <tr>\n",
       "      <th>4</th>\n",
       "      <td>T3</td>\n",
       "      <td>0.290627</td>\n",
       "    </tr>\n",
       "    <tr>\n",
       "      <th>5</th>\n",
       "      <td>RH_3</td>\n",
       "      <td>0.096048</td>\n",
       "    </tr>\n",
       "    <tr>\n",
       "      <th>6</th>\n",
       "      <td>T4</td>\n",
       "      <td>0.028981</td>\n",
       "    </tr>\n",
       "    <tr>\n",
       "      <th>7</th>\n",
       "      <td>RH_4</td>\n",
       "      <td>0.026386</td>\n",
       "    </tr>\n",
       "    <tr>\n",
       "      <th>8</th>\n",
       "      <td>T5</td>\n",
       "      <td>-0.015657</td>\n",
       "    </tr>\n",
       "    <tr>\n",
       "      <th>9</th>\n",
       "      <td>RH_5</td>\n",
       "      <td>0.016006</td>\n",
       "    </tr>\n",
       "    <tr>\n",
       "      <th>10</th>\n",
       "      <td>T6</td>\n",
       "      <td>0.236425</td>\n",
       "    </tr>\n",
       "    <tr>\n",
       "      <th>11</th>\n",
       "      <td>RH_6</td>\n",
       "      <td>0.038049</td>\n",
       "    </tr>\n",
       "    <tr>\n",
       "      <th>12</th>\n",
       "      <td>T7</td>\n",
       "      <td>0.010319</td>\n",
       "    </tr>\n",
       "    <tr>\n",
       "      <th>13</th>\n",
       "      <td>RH_7</td>\n",
       "      <td>-0.044614</td>\n",
       "    </tr>\n",
       "    <tr>\n",
       "      <th>14</th>\n",
       "      <td>T8</td>\n",
       "      <td>0.101995</td>\n",
       "    </tr>\n",
       "    <tr>\n",
       "      <th>15</th>\n",
       "      <td>RH_8</td>\n",
       "      <td>-0.157595</td>\n",
       "    </tr>\n",
       "    <tr>\n",
       "      <th>16</th>\n",
       "      <td>T9</td>\n",
       "      <td>-0.189941</td>\n",
       "    </tr>\n",
       "    <tr>\n",
       "      <th>17</th>\n",
       "      <td>RH_9</td>\n",
       "      <td>-0.039800</td>\n",
       "    </tr>\n",
       "    <tr>\n",
       "      <th>18</th>\n",
       "      <td>T_out</td>\n",
       "      <td>-0.321860</td>\n",
       "    </tr>\n",
       "    <tr>\n",
       "      <th>19</th>\n",
       "      <td>Press_mm_hg</td>\n",
       "      <td>0.006839</td>\n",
       "    </tr>\n",
       "    <tr>\n",
       "      <th>20</th>\n",
       "      <td>RH_out</td>\n",
       "      <td>-0.077671</td>\n",
       "    </tr>\n",
       "    <tr>\n",
       "      <th>21</th>\n",
       "      <td>Windspeed</td>\n",
       "      <td>0.029183</td>\n",
       "    </tr>\n",
       "    <tr>\n",
       "      <th>22</th>\n",
       "      <td>Visibility</td>\n",
       "      <td>0.012307</td>\n",
       "    </tr>\n",
       "    <tr>\n",
       "      <th>23</th>\n",
       "      <td>Tdewpoint</td>\n",
       "      <td>0.117758</td>\n",
       "    </tr>\n",
       "    <tr>\n",
       "      <th>24</th>\n",
       "      <td>rv1</td>\n",
       "      <td>0.000770</td>\n",
       "    </tr>\n",
       "    <tr>\n",
       "      <th>25</th>\n",
       "      <td>rv2</td>\n",
       "      <td>0.000770</td>\n",
       "    </tr>\n",
       "  </tbody>\n",
       "</table>\n",
       "</div>"
      ],
      "text/plain": [
       "        columns  Coefficient Estimate\n",
       "0            T1             -0.003281\n",
       "1          RH_1              0.553547\n",
       "2            T2             -0.236178\n",
       "3          RH_2             -0.456698\n",
       "4            T3              0.290627\n",
       "5          RH_3              0.096048\n",
       "6            T4              0.028981\n",
       "7          RH_4              0.026386\n",
       "8            T5             -0.015657\n",
       "9          RH_5              0.016006\n",
       "10           T6              0.236425\n",
       "11         RH_6              0.038049\n",
       "12           T7              0.010319\n",
       "13         RH_7             -0.044614\n",
       "14           T8              0.101995\n",
       "15         RH_8             -0.157595\n",
       "16           T9             -0.189941\n",
       "17         RH_9             -0.039800\n",
       "18        T_out             -0.321860\n",
       "19  Press_mm_hg              0.006839\n",
       "20       RH_out             -0.077671\n",
       "21    Windspeed              0.029183\n",
       "22   Visibility              0.012307\n",
       "23    Tdewpoint              0.117758\n",
       "24          rv1              0.000770\n",
       "25          rv2              0.000770"
      ]
     },
     "execution_count": 113,
     "metadata": {},
     "output_type": "execute_result"
    }
   ],
   "source": [
    "# Create a dataframe for the wieghts of the features\n",
    "model_coefficient = pd.DataFrame()\n",
    "model_coefficient[\"columns\"] = X_train.columns\n",
    "model_coefficient[\"Coefficient Estimate\"] = pd.Series(ml.coef_)\n",
    "model_coefficient"
   ]
  },
  {
   "cell_type": "markdown",
   "id": "f1c5f818",
   "metadata": {},
   "source": [
    "# Ridge Regression Model (L2 Regularization)"
   ]
  },
  {
   "cell_type": "code",
   "execution_count": 119,
   "id": "faa1233f",
   "metadata": {},
   "outputs": [
    {
     "name": "stdout",
     "output_type": "stream",
     "text": [
      "The RMSE is : 0.088\n",
      "        columns  Coefficient Estimate\n",
      "0            T1             -0.018406\n",
      "1          RH_1              0.519525\n",
      "2            T2             -0.201397\n",
      "3          RH_2             -0.411071\n",
      "4            T3              0.288087\n",
      "5          RH_3              0.095135\n",
      "6            T4              0.027384\n",
      "7          RH_4              0.024579\n",
      "8            T5             -0.019853\n",
      "9          RH_5              0.016152\n",
      "10           T6              0.217292\n",
      "11         RH_6              0.035519\n",
      "12           T7              0.010098\n",
      "13         RH_7             -0.045977\n",
      "14           T8              0.101028\n",
      "15         RH_8             -0.156830\n",
      "16           T9             -0.188916\n",
      "17         RH_9             -0.041367\n",
      "18        T_out             -0.262172\n",
      "19  Press_mm_hg              0.006584\n",
      "20       RH_out             -0.054724\n",
      "21    Windspeed              0.030268\n",
      "22   Visibility              0.012076\n",
      "23    Tdewpoint              0.083128\n",
      "24          rv1              0.000748\n",
      "25          rv2              0.000748\n"
     ]
    }
   ],
   "source": [
    "# applying the Ridge Regression\n",
    "\n",
    "from sklearn.linear_model import Ridge\n",
    "\n",
    "ridge_model = Ridge(alpha=0.4)\n",
    "\n",
    "# Train the model\n",
    "\n",
    "ridge_model.fit(X_train, y_train)\n",
    "\n",
    "# make prediction with the model\n",
    "\n",
    "ridge_pred = ridge_model.predict(X_test)\n",
    "\n",
    "# Calculate the Root Mean squared error (RMSE)\n",
    " \n",
    "RMSE1 = np.sqrt(mean_squared_error(y_test, ridge_pred))\n",
    "\n",
    "print(\"The RMSE is :\", round(RMSE1, 3))\n",
    "\n",
    "\n",
    "# Putting together the coefficients and their corresponding variable names\n",
    "\n",
    "ridge_coefficient = pd.DataFrame()\n",
    "ridge_coefficient[\"columns\"] = X_train.columns\n",
    "ridge_coefficient[\"Coefficient Estimate\"] = pd.Series(ridge_model.coef_)\n",
    "print(ridge_coefficient)"
   ]
  },
  {
   "cell_type": "markdown",
   "id": "0294c4cf",
   "metadata": {},
   "source": [
    "# Lasso Regression Model (L1 Regularization)"
   ]
  },
  {
   "cell_type": "code",
   "execution_count": 121,
   "id": "11355f95",
   "metadata": {},
   "outputs": [
    {
     "name": "stdout",
     "output_type": "stream",
     "text": [
      "The RMSE is:  0.094\n",
      "        columns  Coefficient Estimate\n",
      "0            T1              0.000000\n",
      "1          RH_1              0.017880\n",
      "2            T2              0.000000\n",
      "3          RH_2             -0.000000\n",
      "4            T3              0.000000\n",
      "5          RH_3              0.000000\n",
      "6            T4             -0.000000\n",
      "7          RH_4              0.000000\n",
      "8            T5             -0.000000\n",
      "9          RH_5              0.000000\n",
      "10           T6              0.000000\n",
      "11         RH_6             -0.000000\n",
      "12           T7             -0.000000\n",
      "13         RH_7             -0.000000\n",
      "14           T8              0.000000\n",
      "15         RH_8             -0.000110\n",
      "16           T9             -0.000000\n",
      "17         RH_9             -0.000000\n",
      "18        T_out              0.000000\n",
      "19  Press_mm_hg             -0.000000\n",
      "20       RH_out             -0.049557\n",
      "21    Windspeed              0.002912\n",
      "22   Visibility              0.000000\n",
      "23    Tdewpoint              0.000000\n",
      "24          rv1             -0.000000\n",
      "25          rv2             -0.000000\n"
     ]
    }
   ],
   "source": [
    "# import the lasso model\n",
    "from sklearn.linear_model import Lasso\n",
    "lasso_model = Lasso(alpha=0.001)\n",
    "\n",
    "# Train the model\n",
    "\n",
    "lasso_model.fit(X_train, y_train)\n",
    "\n",
    "# make Predictions with the trained model\n",
    "\n",
    "lasso_pred = lasso_model.predict(X_test)\n",
    "\n",
    "# Calulate the Root Mean Squared error (RMSE)\n",
    "\n",
    "\n",
    "RMSE2 = np.sqrt(mean_squared_error(y_test, lasso_pred))\n",
    "\n",
    "print(\"The RMSE is: \", round(RMSE2, 3))\n",
    "\n",
    "\n",
    "# putting together the coefficient and their respective variable names\n",
    "\n",
    "lasso_coef = pd.DataFrame()\n",
    "lasso_coef[\"columns\"] = X_train.columns\n",
    "lasso_coef[\"Coefficient Estimate\"] = pd.Series(lasso_model.coef_)\n",
    "\n",
    "print(lasso_coef)"
   ]
  },
  {
   "cell_type": "code",
   "execution_count": null,
   "id": "00bc4f6b",
   "metadata": {},
   "outputs": [],
   "source": []
  }
 ],
 "metadata": {
  "kernelspec": {
   "display_name": "Python 3 (ipykernel)",
   "language": "python",
   "name": "python3"
  },
  "language_info": {
   "codemirror_mode": {
    "name": "ipython",
    "version": 3
   },
   "file_extension": ".py",
   "mimetype": "text/x-python",
   "name": "python",
   "nbconvert_exporter": "python",
   "pygments_lexer": "ipython3",
   "version": "3.9.7"
  }
 },
 "nbformat": 4,
 "nbformat_minor": 5
}
